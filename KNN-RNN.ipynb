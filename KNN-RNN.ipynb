{
 "cells": [
  {
   "cell_type": "markdown",
   "metadata": {},
   "source": [
    "# <center>LaLaNet Recurrent neural network</center>"
   ]
  },
  {
   "cell_type": "markdown",
   "metadata": {},
   "source": [
    "\n",
    "## Imports"
   ]
  },
  {
   "cell_type": "code",
   "execution_count": 144,
   "metadata": {},
   "outputs": [
    {
     "name": "stdout",
     "output_type": "stream",
     "text": [
      "[name: \"/cpu:0\"\n",
      "device_type: \"CPU\"\n",
      "memory_limit: 268435456\n",
      "locality {\n",
      "}\n",
      "incarnation: 12524658663129302783\n",
      ", name: \"/gpu:0\"\n",
      "device_type: \"GPU\"\n",
      "locality {\n",
      "  bus_id: 1\n",
      "}\n",
      "incarnation: 10211288589872603019\n",
      "physical_device_desc: \"device: 0, name: GeForce GTX TITAN X, pci bus id: 0000:01:00.0\"\n",
      "]\n"
     ]
    }
   ],
   "source": [
    "# Classifiers\n",
    "from keras.models import Sequential, load_model\n",
    "from keras.layers import LSTM, Conv2D, GRU\n",
    "from keras.preprocessing import sequence\n",
    "from keras.layers.embeddings import Embedding\n",
    "from keras.layers import Dense, Input, Activation\n",
    "from keras.datasets import imdb\n",
    "from sklearn.neighbors import KNeighborsClassifier\n",
    "\n",
    "# Useful tools\n",
    "from matplotlib import pyplot as plt\n",
    "%matplotlib inline\n",
    "import numpy\n",
    "\n",
    "from tensorflow.python.client import device_lib\n",
    "print(device_lib.list_local_devices())"
   ]
  },
  {
   "cell_type": "markdown",
   "metadata": {},
   "source": [
    "## Dataset imports"
   ]
  },
  {
   "cell_type": "code",
   "execution_count": 145,
   "metadata": {
    "collapsed": true
   },
   "outputs": [],
   "source": [
    "def append_dataset(X, Y, Yidx, fn, isFirst=False):\n",
    "    tmpX = numpy.load(fn)\n",
    "    tmpY = numpy.ones(4)*0\n",
    "    tmpY[Yidx] = 1\n",
    "    if isFirst:\n",
    "        X = tmpX\n",
    "    else:\n",
    "        X = numpy.concatenate((X, tmpX))\n",
    "    for i in range(len(tmpX)):\n",
    "        Y.append(tmpY.tolist())\n",
    "    return (X, Y)\n",
    "\n",
    "corr = {\n",
    "    0: 'Left and Stay',\n",
    "    1: 'Left and Back',\n",
    "    2: 'Right and Stay',\n",
    "    3: 'Right and Back',\n",
    "    4: 'No gesture'\n",
    "}"
   ]
  },
  {
   "cell_type": "code",
   "execution_count": 146,
   "metadata": {
    "collapsed": true
   },
   "outputs": [],
   "source": [
    "def import_train_dataset():\n",
    "    X = []\n",
    "    Y = []\n",
    "    X, Y = append_dataset(X, Y, 0, 'train/leftStay.npy', isFirst=True)\n",
    "    X, Y = append_dataset(X, Y, 0, 'train/leftStay2.npy')\n",
    "    X, Y = append_dataset(X, Y, 0, 'train/TuetuopayLeftStay.npy')\n",
    "    X, Y = append_dataset(X, Y, 1, 'train/leftBack.npy')\n",
    "    X, Y = append_dataset(X, Y, 1, 'train/TuetuopayLeftBack.npy')\n",
    "    X, Y = append_dataset(X, Y, 2, 'train/rightStay.npy')\n",
    "    X, Y = append_dataset(X, Y, 2, 'train/rightStay2.npy')\n",
    "    X, Y = append_dataset(X, Y, 2, 'train/TuetuopayRightStay.npy')\n",
    "    X, Y = append_dataset(X, Y, 3, 'train/rightBack.npy')\n",
    "    X, Y = append_dataset(X, Y, 3, 'train/TuetuopayRightBack.npy')\n",
    "    \n",
    "    return (X, Y)\n",
    "\n",
    "X_train, Y_train = import_train_dataset()\n",
    "X_train = X_train.reshape(X_train.shape[0], X_train.shape[1]*X_train.shape[2])\n",
    "\n",
    "#X_train = X_train[:, :, 0:2]"
   ]
  },
  {
   "cell_type": "code",
   "execution_count": 147,
   "metadata": {
    "collapsed": true
   },
   "outputs": [],
   "source": [
    "def import_test_dataset():\n",
    "    X = []\n",
    "    Y = []\n",
    "    X, Y = append_dataset(X, Y, 0, 'test/testLeftStay.npy', isFirst=True)\n",
    "    X, Y = append_dataset(X, Y, 1, 'test/testLeftBack.npy')\n",
    "    X, Y = append_dataset(X, Y, 2, 'test/testRightStay.npy')\n",
    "    X, Y = append_dataset(X, Y, 3, 'test/testRightBack.npy')\n",
    "    X, Y = append_dataset(X, Y, 2, 'train/mattRightStay.npy')\n",
    "\n",
    "    return (X, Y)\n",
    "\n",
    "X_test, Y_test = import_test_dataset()\n",
    "\n",
    "X_test = X_test.reshape(X_test.shape[0], X_test.shape[1]*X_test.shape[2])\n",
    "#X_test = X_test[:, :, 0:2]"
   ]
  },
  {
   "cell_type": "code",
   "execution_count": 148,
   "metadata": {},
   "outputs": [
    {
     "data": {
      "text/plain": [
       "(320, 4)"
      ]
     },
     "execution_count": 148,
     "metadata": {},
     "output_type": "execute_result"
    }
   ],
   "source": [
    "numpy.shape(Y_train)"
   ]
  },
  {
   "cell_type": "markdown",
   "metadata": {},
   "source": [
    "## KNN on full signal"
   ]
  },
  {
   "cell_type": "code",
   "execution_count": 149,
   "metadata": {
    "collapsed": true
   },
   "outputs": [],
   "source": [
    "def predict_to_corr(prediction):\n",
    "    corrs = []\n",
    "    for i in range(len(prediction)):\n",
    "        if prediction[i] > 0.5:\n",
    "            corrs.append(i)\n",
    "    if len(corrs) > 1:\n",
    "        print(\"ERROR: Predicted more than one gesture\")\n",
    "        print(\"Predicted: \" + corrs)\n",
    "    elif len(corrs) == 0:\n",
    "        return 4\n",
    "    else:\n",
    "        return corrs[0]"
   ]
  },
  {
   "cell_type": "code",
   "execution_count": 150,
   "metadata": {},
   "outputs": [
    {
     "data": {
      "text/plain": [
       "KNeighborsClassifier(algorithm='auto', leaf_size=30, metric='minkowski',\n",
       "           metric_params=None, n_jobs=1, n_neighbors=5, p=2,\n",
       "           weights='uniform')"
      ]
     },
     "execution_count": 150,
     "metadata": {},
     "output_type": "execute_result"
    }
   ],
   "source": [
    "knn = KNeighborsClassifier(n_neighbors=5)\n",
    "knn.fit(X_train, Y_train)"
   ]
  },
  {
   "cell_type": "markdown",
   "metadata": {},
   "source": [
    "### Evaluation of KNN"
   ]
  },
  {
   "cell_type": "code",
   "execution_count": 151,
   "metadata": {},
   "outputs": [
    {
     "name": "stdout",
     "output_type": "stream",
     "text": [
      "ERROR on 10\n",
      "Predicted No gesture but it was Left and Stay\n",
      "ERROR on 29\n",
      "Predicted Left and Stay but it was Left and Back\n",
      "ERROR on 45\n",
      "Predicted Right and Stay but it was Right and Back\n",
      "ERROR on 46\n",
      "Predicted Right and Stay but it was Right and Back\n",
      "ERROR on 47\n",
      "Predicted Right and Stay but it was Right and Back\n",
      "ERROR on 48\n",
      "Predicted Right and Stay but it was Right and Back\n",
      "ERROR on 50\n",
      "Predicted Right and Stay but it was Right and Back\n",
      "ERROR on 52\n",
      "Predicted Right and Stay but it was Right and Back\n",
      "ERROR on 53\n",
      "Predicted Right and Stay but it was Right and Back\n",
      "Evaluation results: 94.375% accuracy\n"
     ]
    },
    {
     "data": {
      "text/plain": [
       "[<matplotlib.lines.Line2D at 0x196d9433b38>]"
      ]
     },
     "execution_count": 151,
     "metadata": {},
     "output_type": "execute_result"
    },
    {
     "data": {
      "image/png": "[encoded data removed]",
      "text/plain": [
       "<matplotlib.figure.Figure at 0x196d7b0fac8>"
      ]
     },
     "metadata": {},
     "output_type": "display_data"
    }
   ],
   "source": [
    "def evaluate_knn(X, Y):\n",
    "    predictions = knn.predict(X)\n",
    "    nb_err = 0\n",
    "    for i in range(len(predictions)):\n",
    "        if numpy.sum(abs(predictions[i] - Y[i])) > 0.1:\n",
    "            print(\"ERROR on \" + str(i))\n",
    "            print(\"Predicted \" + corr[predict_to_corr(predictions[i])] + \" but it was \" + corr[predict_to_corr(Y[i])])\n",
    "            nb_err += 1\n",
    "    print(\"Evaluation results: \" + str(100*(1 - (nb_err/len(predictions)))) + \"% accuracy\")\n",
    "    \n",
    "evaluate_knn(X_test, Y_test)\n",
    "plt.plot(X_test[29, 0:-1:6])"
   ]
  },
  {
   "cell_type": "markdown",
   "metadata": {},
   "source": [
    "## KNN on each sample followed by NN"
   ]
  },
  {
   "cell_type": "code",
   "execution_count": 6,
   "metadata": {
    "scrolled": false
   },
   "outputs": [
    {
     "ename": "ValueError",
     "evalue": "Input 0 is incompatible with layer lstm_2: expected ndim=3, found ndim=2",
     "output_type": "error",
     "traceback": [
      "\u001b[0;31m---------------------------------------------------------------------------\u001b[0m",
      "\u001b[0;31mValueError\u001b[0m                                Traceback (most recent call last)",
      "\u001b[0;32m<ipython-input-6-3f01e5c44c33>\u001b[0m in \u001b[0;36m<module>\u001b[0;34m()\u001b[0m\n\u001b[1;32m      1\u001b[0m \u001b[0;31m# create the model\u001b[0m\u001b[0;34m\u001b[0m\u001b[0;34m\u001b[0m\u001b[0m\n\u001b[0;32m----> 2\u001b[0;31m \u001b[0mmodel\u001b[0m \u001b[0;34m=\u001b[0m \u001b[0mSequential\u001b[0m\u001b[0;34m(\u001b[0m\u001b[0;34m[\u001b[0m\u001b[0mLSTM\u001b[0m\u001b[0;34m(\u001b[0m\u001b[0;36m48\u001b[0m\u001b[0;34m,\u001b[0m \u001b[0minput_shape\u001b[0m\u001b[0;34m=\u001b[0m\u001b[0;34m(\u001b[0m\u001b[0;36m200\u001b[0m\u001b[0;34m,\u001b[0m\u001b[0;36m6\u001b[0m\u001b[0;34m)\u001b[0m\u001b[0;34m)\u001b[0m\u001b[0;34m,\u001b[0m \u001b[0mLSTM\u001b[0m\u001b[0;34m(\u001b[0m\u001b[0;36m98\u001b[0m\u001b[0;34m)\u001b[0m\u001b[0;34m,\u001b[0m \u001b[0mDense\u001b[0m\u001b[0;34m(\u001b[0m\u001b[0;36m4\u001b[0m\u001b[0;34m)\u001b[0m\u001b[0;34m,\u001b[0m \u001b[0mActivation\u001b[0m\u001b[0;34m(\u001b[0m\u001b[0;34m'sigmoid'\u001b[0m\u001b[0;34m)\u001b[0m\u001b[0;34m]\u001b[0m\u001b[0;34m)\u001b[0m\u001b[0;34m\u001b[0m\u001b[0m\n\u001b[0m\u001b[1;32m      3\u001b[0m \u001b[0;34m\u001b[0m\u001b[0m\n\u001b[1;32m      4\u001b[0m \u001b[0mmodel\u001b[0m\u001b[0;34m.\u001b[0m\u001b[0mcompile\u001b[0m\u001b[0;34m(\u001b[0m\u001b[0mloss\u001b[0m\u001b[0;34m=\u001b[0m\u001b[0;34m'categorical_crossentropy'\u001b[0m\u001b[0;34m,\u001b[0m \u001b[0moptimizer\u001b[0m\u001b[0;34m=\u001b[0m\u001b[0;34m'adam'\u001b[0m\u001b[0;34m,\u001b[0m \u001b[0mmetrics\u001b[0m\u001b[0;34m=\u001b[0m\u001b[0;34m[\u001b[0m\u001b[0;34m'accuracy'\u001b[0m\u001b[0;34m]\u001b[0m\u001b[0;34m)\u001b[0m\u001b[0;34m\u001b[0m\u001b[0m\n\u001b[1;32m      5\u001b[0m \u001b[0mprint\u001b[0m\u001b[0;34m(\u001b[0m\u001b[0mmodel\u001b[0m\u001b[0;34m.\u001b[0m\u001b[0msummary\u001b[0m\u001b[0;34m(\u001b[0m\u001b[0;34m)\u001b[0m\u001b[0;34m)\u001b[0m\u001b[0;34m\u001b[0m\u001b[0m\n",
      "\u001b[0;32m~/anaconda3/envs/lalanet/lib/python3.5/site-packages/keras/models.py\u001b[0m in \u001b[0;36m__init__\u001b[0;34m(self, layers, name)\u001b[0m\n\u001b[1;32m    385\u001b[0m         \u001b[0;32mif\u001b[0m \u001b[0mlayers\u001b[0m\u001b[0;34m:\u001b[0m\u001b[0;34m\u001b[0m\u001b[0m\n\u001b[1;32m    386\u001b[0m             \u001b[0;32mfor\u001b[0m \u001b[0mlayer\u001b[0m \u001b[0;32min\u001b[0m \u001b[0mlayers\u001b[0m\u001b[0;34m:\u001b[0m\u001b[0;34m\u001b[0m\u001b[0m\n\u001b[0;32m--> 387\u001b[0;31m                 \u001b[0mself\u001b[0m\u001b[0;34m.\u001b[0m\u001b[0madd\u001b[0m\u001b[0;34m(\u001b[0m\u001b[0mlayer\u001b[0m\u001b[0;34m)\u001b[0m\u001b[0;34m\u001b[0m\u001b[0m\n\u001b[0m\u001b[1;32m    388\u001b[0m \u001b[0;34m\u001b[0m\u001b[0m\n\u001b[1;32m    389\u001b[0m     \u001b[0;32mdef\u001b[0m \u001b[0madd\u001b[0m\u001b[0;34m(\u001b[0m\u001b[0mself\u001b[0m\u001b[0;34m,\u001b[0m \u001b[0mlayer\u001b[0m\u001b[0;34m)\u001b[0m\u001b[0;34m:\u001b[0m\u001b[0;34m\u001b[0m\u001b[0m\n",
      "\u001b[0;32m~/anaconda3/envs/lalanet/lib/python3.5/site-packages/keras/models.py\u001b[0m in \u001b[0;36madd\u001b[0;34m(self, layer)\u001b[0m\n\u001b[1;32m    453\u001b[0m                           output_shapes=[self.outputs[0]._keras_shape])\n\u001b[1;32m    454\u001b[0m         \u001b[0;32melse\u001b[0m\u001b[0;34m:\u001b[0m\u001b[0;34m\u001b[0m\u001b[0m\n\u001b[0;32m--> 455\u001b[0;31m             \u001b[0moutput_tensor\u001b[0m \u001b[0;34m=\u001b[0m \u001b[0mlayer\u001b[0m\u001b[0;34m(\u001b[0m\u001b[0mself\u001b[0m\u001b[0;34m.\u001b[0m\u001b[0moutputs\u001b[0m\u001b[0;34m[\u001b[0m\u001b[0;36m0\u001b[0m\u001b[0;34m]\u001b[0m\u001b[0;34m)\u001b[0m\u001b[0;34m\u001b[0m\u001b[0m\n\u001b[0m\u001b[1;32m    456\u001b[0m             \u001b[0;32mif\u001b[0m \u001b[0misinstance\u001b[0m\u001b[0;34m(\u001b[0m\u001b[0moutput_tensor\u001b[0m\u001b[0;34m,\u001b[0m \u001b[0mlist\u001b[0m\u001b[0;34m)\u001b[0m\u001b[0;34m:\u001b[0m\u001b[0;34m\u001b[0m\u001b[0m\n\u001b[1;32m    457\u001b[0m                 raise TypeError('All layers in a Sequential model '\n",
      "\u001b[0;32m~/anaconda3/envs/lalanet/lib/python3.5/site-packages/keras/layers/recurrent.py\u001b[0m in \u001b[0;36m__call__\u001b[0;34m(self, inputs, initial_state, **kwargs)\u001b[0m\n\u001b[1;32m    250\u001b[0m             \u001b[0;32melse\u001b[0m\u001b[0;34m:\u001b[0m\u001b[0;34m\u001b[0m\u001b[0m\n\u001b[1;32m    251\u001b[0m                 \u001b[0mkwargs\u001b[0m\u001b[0;34m[\u001b[0m\u001b[0;34m'initial_state'\u001b[0m\u001b[0;34m]\u001b[0m \u001b[0;34m=\u001b[0m \u001b[0minitial_state\u001b[0m\u001b[0;34m\u001b[0m\u001b[0m\n\u001b[0;32m--> 252\u001b[0;31m         \u001b[0;32mreturn\u001b[0m \u001b[0msuper\u001b[0m\u001b[0;34m(\u001b[0m\u001b[0mRecurrent\u001b[0m\u001b[0;34m,\u001b[0m \u001b[0mself\u001b[0m\u001b[0;34m)\u001b[0m\u001b[0;34m.\u001b[0m\u001b[0m__call__\u001b[0m\u001b[0;34m(\u001b[0m\u001b[0minputs\u001b[0m\u001b[0;34m,\u001b[0m \u001b[0;34m**\u001b[0m\u001b[0mkwargs\u001b[0m\u001b[0;34m)\u001b[0m\u001b[0;34m\u001b[0m\u001b[0m\n\u001b[0m\u001b[1;32m    253\u001b[0m \u001b[0;34m\u001b[0m\u001b[0m\n\u001b[1;32m    254\u001b[0m     \u001b[0;32mdef\u001b[0m \u001b[0mcall\u001b[0m\u001b[0;34m(\u001b[0m\u001b[0mself\u001b[0m\u001b[0;34m,\u001b[0m \u001b[0minputs\u001b[0m\u001b[0;34m,\u001b[0m \u001b[0mmask\u001b[0m\u001b[0;34m=\u001b[0m\u001b[0;32mNone\u001b[0m\u001b[0;34m,\u001b[0m \u001b[0minitial_state\u001b[0m\u001b[0;34m=\u001b[0m\u001b[0;32mNone\u001b[0m\u001b[0;34m,\u001b[0m \u001b[0mtraining\u001b[0m\u001b[0;34m=\u001b[0m\u001b[0;32mNone\u001b[0m\u001b[0;34m)\u001b[0m\u001b[0;34m:\u001b[0m\u001b[0;34m\u001b[0m\u001b[0m\n",
      "\u001b[0;32m~/anaconda3/envs/lalanet/lib/python3.5/site-packages/keras/engine/topology.py\u001b[0m in \u001b[0;36m__call__\u001b[0;34m(self, inputs, **kwargs)\u001b[0m\n\u001b[1;32m    509\u001b[0m                 \u001b[0;31m# Raise exceptions in case the input is not compatible\u001b[0m\u001b[0;34m\u001b[0m\u001b[0;34m\u001b[0m\u001b[0m\n\u001b[1;32m    510\u001b[0m                 \u001b[0;31m# with the input_spec specified in the layer constructor.\u001b[0m\u001b[0;34m\u001b[0m\u001b[0;34m\u001b[0m\u001b[0m\n\u001b[0;32m--> 511\u001b[0;31m                 \u001b[0mself\u001b[0m\u001b[0;34m.\u001b[0m\u001b[0massert_input_compatibility\u001b[0m\u001b[0;34m(\u001b[0m\u001b[0minputs\u001b[0m\u001b[0;34m)\u001b[0m\u001b[0;34m\u001b[0m\u001b[0m\n\u001b[0m\u001b[1;32m    512\u001b[0m \u001b[0;34m\u001b[0m\u001b[0m\n\u001b[1;32m    513\u001b[0m                 \u001b[0;31m# Collect input shapes to build layer.\u001b[0m\u001b[0;34m\u001b[0m\u001b[0;34m\u001b[0m\u001b[0m\n",
      "\u001b[0;32m~/anaconda3/envs/lalanet/lib/python3.5/site-packages/keras/engine/topology.py\u001b[0m in \u001b[0;36massert_input_compatibility\u001b[0;34m(self, inputs)\u001b[0m\n\u001b[1;32m    411\u001b[0m                                      \u001b[0mself\u001b[0m\u001b[0;34m.\u001b[0m\u001b[0mname\u001b[0m \u001b[0;34m+\u001b[0m \u001b[0;34m': expected ndim='\u001b[0m \u001b[0;34m+\u001b[0m\u001b[0;34m\u001b[0m\u001b[0m\n\u001b[1;32m    412\u001b[0m                                      \u001b[0mstr\u001b[0m\u001b[0;34m(\u001b[0m\u001b[0mspec\u001b[0m\u001b[0;34m.\u001b[0m\u001b[0mndim\u001b[0m\u001b[0;34m)\u001b[0m \u001b[0;34m+\u001b[0m \u001b[0;34m', found ndim='\u001b[0m \u001b[0;34m+\u001b[0m\u001b[0;34m\u001b[0m\u001b[0m\n\u001b[0;32m--> 413\u001b[0;31m                                      str(K.ndim(x)))\n\u001b[0m\u001b[1;32m    414\u001b[0m             \u001b[0;32mif\u001b[0m \u001b[0mspec\u001b[0m\u001b[0;34m.\u001b[0m\u001b[0mmax_ndim\u001b[0m \u001b[0;32mis\u001b[0m \u001b[0;32mnot\u001b[0m \u001b[0;32mNone\u001b[0m\u001b[0;34m:\u001b[0m\u001b[0;34m\u001b[0m\u001b[0m\n\u001b[1;32m    415\u001b[0m                 \u001b[0mndim\u001b[0m \u001b[0;34m=\u001b[0m \u001b[0mK\u001b[0m\u001b[0;34m.\u001b[0m\u001b[0mndim\u001b[0m\u001b[0;34m(\u001b[0m\u001b[0mx\u001b[0m\u001b[0;34m)\u001b[0m\u001b[0;34m\u001b[0m\u001b[0m\n",
      "\u001b[0;31mValueError\u001b[0m: Input 0 is incompatible with layer lstm_2: expected ndim=3, found ndim=2"
     ]
    }
   ],
   "source": [
    "# create the model\n",
    "model = Sequential([LSTM(48, input_shape=(200,6)), LSTM(98), Dense(4), Activation('sigmoid')])\n",
    "\n",
    "model.compile(loss='categorical_crossentropy', optimizer='adam', metrics=['accuracy'])\n",
    "print(model.summary())\n",
    "\n",
    "model.fit(X_train, Y_train, validation_data=(X_test, Y_test), epochs=10, batch_size=3, shuffle=True)\n",
    "# Final evaluation of the model\n",
    "scores = model.evaluate(X_train, Y_train, verbose=0)\n",
    "print(\"Overfit Accuracy: %.2f%%\" % (scores[1]*100))\n",
    "scores = model.evaluate(X_test, Y_test, verbose=0)\n",
    "print(\"Test Accuracy: %.2f%%\" % (scores[1]*100))"
   ]
  },
  {
   "cell_type": "code",
   "execution_count": 108,
   "metadata": {},
   "outputs": [
    {
     "name": "stdout",
     "output_type": "stream",
     "text": [
      "Accuracy: 50.00%\n"
     ]
    }
   ],
   "source": [
    "# Final evaluation of the model\n",
    "scores = model.evaluate(X_train, Y_train, verbose=0)\n",
    "print(\"Accuracy: %.2f%%\" % (scores[1]*100))"
   ]
  },
  {
   "cell_type": "code",
   "execution_count": 109,
   "metadata": {
    "collapsed": true
   },
   "outputs": [],
   "source": [
    "model.save('testLeftRight.h5')"
   ]
  },
  {
   "cell_type": "code",
   "execution_count": 110,
   "metadata": {
    "scrolled": false
   },
   "outputs": [
    {
     "data": {
      "text/plain": [
       "array([[-0.20957159,  0.21986596],\n",
       "       [-0.20942318,  0.21943694],\n",
       "       [-0.21059142,  0.22073302],\n",
       "       [-0.20812389,  0.21537575],\n",
       "       [-0.21261808,  0.22276542],\n",
       "       [-0.20712902,  0.21739796],\n",
       "       [-0.20588119,  0.21087363],\n",
       "       [-0.20669277,  0.21383318],\n",
       "       [-0.20660695,  0.21496765],\n",
       "       [-0.21095656,  0.22170407],\n",
       "       [-0.21089993,  0.22219233],\n",
       "       [-0.20980132,  0.22342038],\n",
       "       [-0.21019219,  0.22205734],\n",
       "       [-0.21240862,  0.22563259],\n",
       "       [-0.210081  ,  0.2217537 ],\n",
       "       [-0.21216086,  0.22829664],\n",
       "       [-0.21358401,  0.23207414],\n",
       "       [-0.21959601,  0.23677367],\n",
       "       [-0.21550632,  0.233804  ],\n",
       "       [-0.2144694 ,  0.23446827],\n",
       "       [-0.21365508,  0.2324829 ],\n",
       "       [-0.21617468,  0.23612443],\n",
       "       [-0.21262904,  0.22747087],\n",
       "       [-0.21191151,  0.22879048],\n",
       "       [-0.2119544 ,  0.23143379],\n",
       "       [-0.21336219,  0.23063831],\n",
       "       [-0.21420249,  0.23257491],\n",
       "       [-0.21044502,  0.22676508],\n",
       "       [-0.21368009,  0.22979234],\n",
       "       [-0.21544848,  0.23005836]], dtype=float32)"
      ]
     },
     "execution_count": 110,
     "metadata": {},
     "output_type": "execute_result"
    }
   ],
   "source": [
    "# create the model\n",
    "#model2 = load_model('testLeftRight.h5')\n",
    "model.predict(X_test)"
   ]
  },
  {
   "cell_type": "code",
   "execution_count": 92,
   "metadata": {},
   "outputs": [
    {
     "data": {
      "text/plain": [
       "[<matplotlib.lines.Line2D at 0x7f7c4c88d160>]"
      ]
     },
     "execution_count": 92,
     "metadata": {},
     "output_type": "execute_result"
    },
    {
     "data": {
      "image/png": "[encoded data removed]",
      "text/plain": [
       "<matplotlib.figure.Figure at 0x7f7c4c88d9e8>"
      ]
     },
     "metadata": {},
     "output_type": "display_data"
    }
   ],
   "source": [
    "plt.plot(X_train[0].T[0])\n",
    "plt.plot(X_train[-1].T[0])"
   ]
  },
  {
   "cell_type": "code",
   "execution_count": 187,
   "metadata": {},
   "outputs": [
    {
     "data": {
      "text/plain": [
       "array([  4.83779660e-01,   4.84817273e-01,   4.86633097e-01,\n",
       "         4.88708324e-01,   4.92233158e-01,   4.93789578e-01,\n",
       "         4.93102922e-01,   4.91714351e-01,   4.87014572e-01,\n",
       "         4.81429770e-01,   4.78683146e-01,   4.78881514e-01,\n",
       "         4.82055390e-01,   4.84756237e-01,   4.86007477e-01,\n",
       "         4.85595483e-01,   4.85656519e-01,   4.86266880e-01,\n",
       "         4.85931182e-01,   4.86984054e-01,   4.88998245e-01,\n",
       "         4.91134508e-01,   4.92080568e-01,   4.90417334e-01,\n",
       "         4.87685969e-01,   4.85076677e-01,   4.85122454e-01,\n",
       "         4.87579156e-01,   4.89410239e-01,   4.89913787e-01,\n",
       "         4.89669642e-01,   4.88418402e-01,   4.85961700e-01,\n",
       "         4.80346380e-01,   4.76958877e-01,   4.77401389e-01,\n",
       "         4.81521324e-01,   4.86953536e-01,   4.91042954e-01,\n",
       "         4.91073472e-01,   4.88830396e-01,   4.87045090e-01,\n",
       "         4.86358434e-01,   4.85809110e-01,   4.85458152e-01,\n",
       "         4.87045090e-01,   4.88281071e-01,   4.88494697e-01,\n",
       "         4.85778592e-01,   4.81918059e-01,   4.78286412e-01,\n",
       "         4.77813382e-01,   4.79476616e-01,   4.82009613e-01,\n",
       "         4.84649424e-01,   4.86800946e-01,   4.89929046e-01,\n",
       "         4.95147631e-01,   4.99069200e-01,   5.01709010e-01,\n",
       "         5.03189136e-01,   5.07888914e-01,   5.13138018e-01,\n",
       "         5.20523384e-01,   5.28274968e-01,   5.38284886e-01,\n",
       "         5.51529717e-01,   5.67765316e-01,   5.86533913e-01,\n",
       "         6.07469291e-01,   6.29976349e-01,   6.53734646e-01,\n",
       "         6.77630274e-01,   7.01770047e-01,   7.27176318e-01,\n",
       "         7.56076905e-01,   7.88593881e-01,   8.16517891e-01,\n",
       "         8.45586328e-01,   8.72442206e-01,   9.01937896e-01,\n",
       "         9.27084764e-01,   9.42389563e-01,   9.37506676e-01,\n",
       "         9.22781720e-01,   9.06652934e-01,   8.91500725e-01,\n",
       "         8.73846036e-01,   8.55596246e-01,   8.36507210e-01,\n",
       "         8.11787594e-01,   7.66712444e-01,   7.43274586e-01,\n",
       "         7.18341344e-01,   6.67818723e-01,   6.19752804e-01,\n",
       "         5.71290150e-01,   5.27527276e-01,   4.68764782e-01,\n",
       "         4.00175479e-01,   3.33966583e-01,   2.69817655e-01,\n",
       "         2.06767376e-01,   1.94499123e-01,   1.20752270e-01,\n",
       "         3.63927672e-03,  -7.62951095e-06,  -7.62951095e-06,\n",
       "        -7.62951095e-06,  -7.62951095e-06,  -7.62951095e-06,\n",
       "         1.19859617e-02,   3.98336767e-02,   6.84138247e-02,\n",
       "         8.61753262e-02,   9.96795605e-02,   1.15716793e-01,\n",
       "         1.20340276e-01,   1.25421530e-01,   1.24017700e-01,\n",
       "         1.23361563e-01,   1.27527276e-01,   1.34988937e-01,\n",
       "         1.41031510e-01,   1.36743725e-01,   1.53177691e-01,\n",
       "         1.44220645e-01,   1.36621653e-01,   1.42313268e-01,\n",
       "         1.26169223e-01,   9.93438621e-02,   9.15617609e-02,\n",
       "         6.97718776e-02,   4.87907225e-02,   4.50522621e-02,\n",
       "         5.57030594e-02,   7.40749218e-02,   9.58495460e-02,\n",
       "         1.20782788e-01,   1.48645762e-01,   1.88502327e-01,\n",
       "         2.36995499e-01,   2.90341039e-01,   3.47653925e-01,\n",
       "         3.95719844e-01,   4.46562905e-01,   5.03402762e-01,\n",
       "         5.61860075e-01,   6.21904326e-01,   6.87685969e-01,\n",
       "         7.53543908e-01,   8.11512932e-01,   8.64217594e-01,\n",
       "         9.08377203e-01,   9.50766766e-01,   9.60456245e-01,\n",
       "         9.96269169e-01,   9.99992370e-01,   9.99992370e-01,\n",
       "         9.99992370e-01,   9.95826658e-01,   9.86564431e-01,\n",
       "         9.58899825e-01,   9.34271763e-01,   9.07141222e-01,\n",
       "         8.63912413e-01,   8.19645991e-01,   7.79850462e-01,\n",
       "         7.41992828e-01,   7.13168536e-01,   6.87060349e-01,\n",
       "         6.59716182e-01,   6.32768750e-01,   6.11924926e-01,\n",
       "         5.92225528e-01,   5.76768139e-01,   5.62317845e-01,\n",
       "         5.46051728e-01,   5.24902724e-01,   5.02777142e-01,\n",
       "         4.93575952e-01,   4.85046159e-01,   4.76012818e-01,\n",
       "         4.74258030e-01,   4.76455329e-01,   4.77721828e-01,\n",
       "         4.86175326e-01,   4.92172122e-01,   4.95071336e-01,\n",
       "         5.01892119e-01,   5.00152590e-01,   4.90508888e-01,\n",
       "         4.83916991e-01,   4.84969863e-01,   4.87060349e-01,\n",
       "         4.90890364e-01,   4.91943236e-01,   4.90142672e-01,\n",
       "         4.86266880e-01,   4.82207980e-01])"
      ]
     },
     "execution_count": 187,
     "metadata": {},
     "output_type": "execute_result"
    }
   ],
   "source": [
    "left_back_test[0].T[0]"
   ]
  },
  {
   "cell_type": "code",
   "execution_count": null,
   "metadata": {
    "collapsed": true
   },
   "outputs": [],
   "source": []
  }
 ],
 "metadata": {
  "kernelspec": {
   "display_name": "Python 3",
   "language": "python",
   "name": "python3"
  },
  "language_info": {
   "codemirror_mode": {
    "name": "ipython",
    "version": 3
   },
   "file_extension": ".py",
   "mimetype": "text/x-python",
   "name": "python",
   "nbconvert_exporter": "python",
   "pygments_lexer": "ipython3",
   "version": "3.5.1"
  }
 },
 "nbformat": 4,
 "nbformat_minor": 2
}
