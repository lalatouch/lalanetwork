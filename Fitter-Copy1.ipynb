{
 "cells": [
  {
   "cell_type": "code",
   "execution_count": 58,
   "metadata": {},
   "outputs": [
    {
     "name": "stdout",
     "output_type": "stream",
     "text": [
      "[name: \"/cpu:0\"\n",
      "device_type: \"CPU\"\n",
      "memory_limit: 268435456\n",
      "locality {\n",
      "}\n",
      "incarnation: 4249710321276480863\n",
      ", name: \"/gpu:0\"\n",
      "device_type: \"GPU\"\n",
      "locality {\n",
      "  bus_id: 1\n",
      "}\n",
      "incarnation: 16305959988761348502\n",
      "physical_device_desc: \"device: 0, name: GeForce GTX TITAN X, pci bus id: 0000:01:00.0\"\n",
      "]\n"
     ]
    }
   ],
   "source": [
    "from keras.models import Sequential, load_model\n",
    "from keras.layers import LSTM, Conv2D\n",
    "from keras.preprocessing import sequence\n",
    "from keras.layers.embeddings import Embedding\n",
    "from keras.layers import Dense, Input, Activation\n",
    "from keras.datasets import imdb\n",
    "\n",
    "from matplotlib import pyplot as plt\n",
    "%matplotlib inline\n",
    "\n",
    "import numpy\n",
    "\n",
    "from tensorflow.python.client import device_lib\n",
    "print(device_lib.list_local_devices())"
   ]
  },
  {
   "cell_type": "code",
   "execution_count": 3,
   "metadata": {},
   "outputs": [],
   "source": [
    "left_stay_train = numpy.load('train/leftStay2.npy')\n",
    "right_stay_train = numpy.load('train/rightStay2.npy')\n",
    "\n",
    "Y_train = []\n",
    "for i in range(100):\n",
    "    Y_train.append([1, 0])\n",
    "for i in range(100):\n",
    "    Y_train.append([0, 1])\n",
    "\n",
    "X_train = numpy.concatenate((left_stay_train, right_stay_train))"
   ]
  },
  {
   "cell_type": "code",
   "execution_count": 69,
   "metadata": {
    "collapsed": true
   },
   "outputs": [],
   "source": [
    "left_stay_test = numpy.load('test/testLeftStay.npy')\n",
    "right_stay_test = numpy.load('test/testRightStay.npy')\n",
    "\n",
    "Y_test = []\n",
    "for i in range(15):\n",
    "    Y_test.append([1, 0])\n",
    "for i in range(15):\n",
    "    Y_test.append([0, 1])\n",
    "\n",
    "X_test = numpy.concatenate((left_stay_test, right_stay_test))"
   ]
  },
  {
   "cell_type": "code",
   "execution_count": 70,
   "metadata": {},
   "outputs": [
    {
     "data": {
      "text/plain": [
       "(200, 200, 6)"
      ]
     },
     "execution_count": 70,
     "metadata": {},
     "output_type": "execute_result"
    }
   ],
   "source": [
    "numpy.shape(X_train)"
   ]
  },
  {
   "cell_type": "code",
   "execution_count": 72,
   "metadata": {
    "scrolled": false
   },
   "outputs": [
    {
     "name": "stdout",
     "output_type": "stream",
     "text": [
      "_________________________________________________________________\n",
      "Layer (type)                 Output Shape              Param #   \n",
      "=================================================================\n",
      "lstm_34 (LSTM)               (None, 48)                10560     \n",
      "_________________________________________________________________\n",
      "dense_40 (Dense)             (None, 2)                 98        \n",
      "_________________________________________________________________\n",
      "activation_15 (Activation)   (None, 2)                 0         \n",
      "=================================================================\n",
      "Total params: 10,658\n",
      "Trainable params: 10,658\n",
      "Non-trainable params: 0\n",
      "_________________________________________________________________\n",
      "None\n",
      "Train on 200 samples, validate on 30 samples\n",
      "Epoch 1/5\n",
      "200/200 [==============================] - 3s - loss: 0.6987 - acc: 0.4800 - val_loss: 0.6948 - val_acc: 0.5000\n",
      "Epoch 2/5\n",
      "200/200 [==============================] - 1s - loss: 0.6900 - acc: 0.5650 - val_loss: 0.6885 - val_acc: 0.8000\n",
      "Epoch 3/5\n",
      "200/200 [==============================] - 1s - loss: 0.6877 - acc: 0.5400 - val_loss: 0.6854 - val_acc: 0.8000\n",
      "Epoch 4/5\n",
      "200/200 [==============================] - 1s - loss: 0.6840 - acc: 0.7000 - val_loss: 0.6868 - val_acc: 0.5000\n",
      "Epoch 5/5\n",
      "200/200 [==============================] - 1s - loss: 0.6797 - acc: 0.5900 - val_loss: 0.6832 - val_acc: 0.5000\n",
      "Overfit Accuracy: 50.00%\n",
      "Test Accuracy: 50.00%\n"
     ]
    }
   ],
   "source": [
    "# create the model\n",
    "model = Sequential([LSTM(48, input_shape=(200,6)), Dense(2), Activation('softmax')])\n",
    "\n",
    "model.compile(loss='categorical_crossentropy', optimizer='rmsprop', metrics=['accuracy'])\n",
    "print(model.summary())\n",
    "\n",
    "model.fit(X_train, Y_train, validation_data=(X_test, Y_test), epochs=5, batch_size=30, shuffle=True)\n",
    "# Final evaluation of the model\n",
    "scores = model.evaluate(X_train, Y_train, verbose=0)\n",
    "print(\"Overfit Accuracy: %.2f%%\" % (scores[1]*100))\n",
    "scores = model.evaluate(X_test, Y_test, verbose=0)\n",
    "print(\"Test Accuracy: %.2f%%\" % (scores[1]*100))"
   ]
  },
  {
   "cell_type": "code",
   "execution_count": 163,
   "metadata": {},
   "outputs": [
    {
     "name": "stdout",
     "output_type": "stream",
     "text": [
      "Accuracy: 75.00%\n"
     ]
    }
   ],
   "source": [
    "# Final evaluation of the model\n",
    "scores = model.evaluate(X_train, Y_train, verbose=0)\n",
    "print(\"Accuracy: %.2f%%\" % (scores[1]*100))"
   ]
  },
  {
   "cell_type": "code",
   "execution_count": 18,
   "metadata": {},
   "outputs": [],
   "source": [
    "model.save('testLeftRight.h5')"
   ]
  },
  {
   "cell_type": "code",
   "execution_count": 26,
   "metadata": {
    "scrolled": false
   },
   "outputs": [
    {
     "ename": "ValueError",
     "evalue": "Error when checking : expected lstm_16_input to have 3 dimensions, but got array with shape (200, 6)",
     "output_type": "error",
     "traceback": [
      "\u001b[1;31m---------------------------------------------------------------------------\u001b[0m",
      "\u001b[1;31mValueError\u001b[0m                                Traceback (most recent call last)",
      "\u001b[1;32m<ipython-input-26-453a35bff3a7>\u001b[0m in \u001b[0;36m<module>\u001b[1;34m()\u001b[0m\n\u001b[0;32m      1\u001b[0m \u001b[1;31m# create the model\u001b[0m\u001b[1;33m\u001b[0m\u001b[1;33m\u001b[0m\u001b[0m\n\u001b[0;32m      2\u001b[0m \u001b[0mmodel2\u001b[0m \u001b[1;33m=\u001b[0m \u001b[0mload_model\u001b[0m\u001b[1;33m(\u001b[0m\u001b[1;34m'testLeftRight.h5'\u001b[0m\u001b[1;33m)\u001b[0m\u001b[1;33m\u001b[0m\u001b[0m\n\u001b[1;32m----> 3\u001b[1;33m \u001b[0mmodel2\u001b[0m\u001b[1;33m.\u001b[0m\u001b[0mpredict\u001b[0m\u001b[1;33m(\u001b[0m\u001b[0mX_train\u001b[0m\u001b[1;33m[\u001b[0m\u001b[1;36m0\u001b[0m\u001b[1;33m]\u001b[0m\u001b[1;33m)\u001b[0m\u001b[1;33m\u001b[0m\u001b[0m\n\u001b[0m",
      "\u001b[1;32mC:\\Users\\DiDjCodt\\AppData\\Local\\conda\\conda\\envs\\antoine35\\lib\\site-packages\\keras\\models.py\u001b[0m in \u001b[0;36mpredict\u001b[1;34m(self, x, batch_size, verbose)\u001b[0m\n\u001b[0;32m    900\u001b[0m         \u001b[1;32mif\u001b[0m \u001b[0mself\u001b[0m\u001b[1;33m.\u001b[0m\u001b[0mmodel\u001b[0m \u001b[1;32mis\u001b[0m \u001b[1;32mNone\u001b[0m\u001b[1;33m:\u001b[0m\u001b[1;33m\u001b[0m\u001b[0m\n\u001b[0;32m    901\u001b[0m             \u001b[0mself\u001b[0m\u001b[1;33m.\u001b[0m\u001b[0mbuild\u001b[0m\u001b[1;33m(\u001b[0m\u001b[1;33m)\u001b[0m\u001b[1;33m\u001b[0m\u001b[0m\n\u001b[1;32m--> 902\u001b[1;33m         \u001b[1;32mreturn\u001b[0m \u001b[0mself\u001b[0m\u001b[1;33m.\u001b[0m\u001b[0mmodel\u001b[0m\u001b[1;33m.\u001b[0m\u001b[0mpredict\u001b[0m\u001b[1;33m(\u001b[0m\u001b[0mx\u001b[0m\u001b[1;33m,\u001b[0m \u001b[0mbatch_size\u001b[0m\u001b[1;33m=\u001b[0m\u001b[0mbatch_size\u001b[0m\u001b[1;33m,\u001b[0m \u001b[0mverbose\u001b[0m\u001b[1;33m=\u001b[0m\u001b[0mverbose\u001b[0m\u001b[1;33m)\u001b[0m\u001b[1;33m\u001b[0m\u001b[0m\n\u001b[0m\u001b[0;32m    903\u001b[0m \u001b[1;33m\u001b[0m\u001b[0m\n\u001b[0;32m    904\u001b[0m     \u001b[1;32mdef\u001b[0m \u001b[0mpredict_on_batch\u001b[0m\u001b[1;33m(\u001b[0m\u001b[0mself\u001b[0m\u001b[1;33m,\u001b[0m \u001b[0mx\u001b[0m\u001b[1;33m)\u001b[0m\u001b[1;33m:\u001b[0m\u001b[1;33m\u001b[0m\u001b[0m\n",
      "\u001b[1;32mC:\\Users\\DiDjCodt\\AppData\\Local\\conda\\conda\\envs\\antoine35\\lib\\site-packages\\keras\\engine\\training.py\u001b[0m in \u001b[0;36mpredict\u001b[1;34m(self, x, batch_size, verbose)\u001b[0m\n\u001b[0;32m   1565\u001b[0m         x = _standardize_input_data(x, self._feed_input_names,\n\u001b[0;32m   1566\u001b[0m                                     \u001b[0mself\u001b[0m\u001b[1;33m.\u001b[0m\u001b[0m_feed_input_shapes\u001b[0m\u001b[1;33m,\u001b[0m\u001b[1;33m\u001b[0m\u001b[0m\n\u001b[1;32m-> 1567\u001b[1;33m                                     check_batch_axis=False)\n\u001b[0m\u001b[0;32m   1568\u001b[0m         \u001b[1;32mif\u001b[0m \u001b[0mself\u001b[0m\u001b[1;33m.\u001b[0m\u001b[0mstateful\u001b[0m\u001b[1;33m:\u001b[0m\u001b[1;33m\u001b[0m\u001b[0m\n\u001b[0;32m   1569\u001b[0m             \u001b[1;32mif\u001b[0m \u001b[0mx\u001b[0m\u001b[1;33m[\u001b[0m\u001b[1;36m0\u001b[0m\u001b[1;33m]\u001b[0m\u001b[1;33m.\u001b[0m\u001b[0mshape\u001b[0m\u001b[1;33m[\u001b[0m\u001b[1;36m0\u001b[0m\u001b[1;33m]\u001b[0m \u001b[1;33m>\u001b[0m \u001b[0mbatch_size\u001b[0m \u001b[1;32mand\u001b[0m \u001b[0mx\u001b[0m\u001b[1;33m[\u001b[0m\u001b[1;36m0\u001b[0m\u001b[1;33m]\u001b[0m\u001b[1;33m.\u001b[0m\u001b[0mshape\u001b[0m\u001b[1;33m[\u001b[0m\u001b[1;36m0\u001b[0m\u001b[1;33m]\u001b[0m \u001b[1;33m%\u001b[0m \u001b[0mbatch_size\u001b[0m \u001b[1;33m!=\u001b[0m \u001b[1;36m0\u001b[0m\u001b[1;33m:\u001b[0m\u001b[1;33m\u001b[0m\u001b[0m\n",
      "\u001b[1;32mC:\\Users\\DiDjCodt\\AppData\\Local\\conda\\conda\\envs\\antoine35\\lib\\site-packages\\keras\\engine\\training.py\u001b[0m in \u001b[0;36m_standardize_input_data\u001b[1;34m(data, names, shapes, check_batch_axis, exception_prefix)\u001b[0m\n\u001b[0;32m    125\u001b[0m                                  \u001b[1;34m' to have '\u001b[0m \u001b[1;33m+\u001b[0m \u001b[0mstr\u001b[0m\u001b[1;33m(\u001b[0m\u001b[0mlen\u001b[0m\u001b[1;33m(\u001b[0m\u001b[0mshapes\u001b[0m\u001b[1;33m[\u001b[0m\u001b[0mi\u001b[0m\u001b[1;33m]\u001b[0m\u001b[1;33m)\u001b[0m\u001b[1;33m)\u001b[0m \u001b[1;33m+\u001b[0m\u001b[1;33m\u001b[0m\u001b[0m\n\u001b[0;32m    126\u001b[0m                                  \u001b[1;34m' dimensions, but got array with shape '\u001b[0m \u001b[1;33m+\u001b[0m\u001b[1;33m\u001b[0m\u001b[0m\n\u001b[1;32m--> 127\u001b[1;33m                                  str(array.shape))\n\u001b[0m\u001b[0;32m    128\u001b[0m             \u001b[1;32mfor\u001b[0m \u001b[0mj\u001b[0m\u001b[1;33m,\u001b[0m \u001b[1;33m(\u001b[0m\u001b[0mdim\u001b[0m\u001b[1;33m,\u001b[0m \u001b[0mref_dim\u001b[0m\u001b[1;33m)\u001b[0m \u001b[1;32min\u001b[0m \u001b[0menumerate\u001b[0m\u001b[1;33m(\u001b[0m\u001b[0mzip\u001b[0m\u001b[1;33m(\u001b[0m\u001b[0marray\u001b[0m\u001b[1;33m.\u001b[0m\u001b[0mshape\u001b[0m\u001b[1;33m,\u001b[0m \u001b[0mshapes\u001b[0m\u001b[1;33m[\u001b[0m\u001b[0mi\u001b[0m\u001b[1;33m]\u001b[0m\u001b[1;33m)\u001b[0m\u001b[1;33m)\u001b[0m\u001b[1;33m:\u001b[0m\u001b[1;33m\u001b[0m\u001b[0m\n\u001b[0;32m    129\u001b[0m                 \u001b[1;32mif\u001b[0m \u001b[1;32mnot\u001b[0m \u001b[0mj\u001b[0m \u001b[1;32mand\u001b[0m \u001b[1;32mnot\u001b[0m \u001b[0mcheck_batch_axis\u001b[0m\u001b[1;33m:\u001b[0m\u001b[1;33m\u001b[0m\u001b[0m\n",
      "\u001b[1;31mValueError\u001b[0m: Error when checking : expected lstm_16_input to have 3 dimensions, but got array with shape (200, 6)"
     ]
    }
   ],
   "source": [
    "# create the model\n",
    "model2 = load_model('testLeftRight.h5')\n",
    "model2.predict(X_train[0])"
   ]
  },
  {
   "cell_type": "code",
   "execution_count": 200,
   "metadata": {},
   "outputs": [
    {
     "data": {
      "text/plain": [
       "[<matplotlib.lines.Line2D at 0x1974993d400>]"
      ]
     },
     "execution_count": 200,
     "metadata": {},
     "output_type": "execute_result"
    },
    {
     "data": {
      "image/png": "[encoded data removed]",
      "text/plain": [
       "<matplotlib.figure.Figure at 0x1974993d748>"
      ]
     },
     "metadata": {},
     "output_type": "display_data"
    }
   ],
   "source": [
    "plt.plot(right_stay_test[0].T[0])\n",
    "plt.plot(left_stay_test[0].T[0])"
   ]
  },
  {
   "cell_type": "code",
   "execution_count": 187,
   "metadata": {},
   "outputs": [
    {
     "data": {
      "text/plain": [
       "array([  4.83779660e-01,   4.84817273e-01,   4.86633097e-01,\n",
       "         4.88708324e-01,   4.92233158e-01,   4.93789578e-01,\n",
       "         4.93102922e-01,   4.91714351e-01,   4.87014572e-01,\n",
       "         4.81429770e-01,   4.78683146e-01,   4.78881514e-01,\n",
       "         4.82055390e-01,   4.84756237e-01,   4.86007477e-01,\n",
       "         4.85595483e-01,   4.85656519e-01,   4.86266880e-01,\n",
       "         4.85931182e-01,   4.86984054e-01,   4.88998245e-01,\n",
       "         4.91134508e-01,   4.92080568e-01,   4.90417334e-01,\n",
       "         4.87685969e-01,   4.85076677e-01,   4.85122454e-01,\n",
       "         4.87579156e-01,   4.89410239e-01,   4.89913787e-01,\n",
       "         4.89669642e-01,   4.88418402e-01,   4.85961700e-01,\n",
       "         4.80346380e-01,   4.76958877e-01,   4.77401389e-01,\n",
       "         4.81521324e-01,   4.86953536e-01,   4.91042954e-01,\n",
       "         4.91073472e-01,   4.88830396e-01,   4.87045090e-01,\n",
       "         4.86358434e-01,   4.85809110e-01,   4.85458152e-01,\n",
       "         4.87045090e-01,   4.88281071e-01,   4.88494697e-01,\n",
       "         4.85778592e-01,   4.81918059e-01,   4.78286412e-01,\n",
       "         4.77813382e-01,   4.79476616e-01,   4.82009613e-01,\n",
       "         4.84649424e-01,   4.86800946e-01,   4.89929046e-01,\n",
       "         4.95147631e-01,   4.99069200e-01,   5.01709010e-01,\n",
       "         5.03189136e-01,   5.07888914e-01,   5.13138018e-01,\n",
       "         5.20523384e-01,   5.28274968e-01,   5.38284886e-01,\n",
       "         5.51529717e-01,   5.67765316e-01,   5.86533913e-01,\n",
       "         6.07469291e-01,   6.29976349e-01,   6.53734646e-01,\n",
       "         6.77630274e-01,   7.01770047e-01,   7.27176318e-01,\n",
       "         7.56076905e-01,   7.88593881e-01,   8.16517891e-01,\n",
       "         8.45586328e-01,   8.72442206e-01,   9.01937896e-01,\n",
       "         9.27084764e-01,   9.42389563e-01,   9.37506676e-01,\n",
       "         9.22781720e-01,   9.06652934e-01,   8.91500725e-01,\n",
       "         8.73846036e-01,   8.55596246e-01,   8.36507210e-01,\n",
       "         8.11787594e-01,   7.66712444e-01,   7.43274586e-01,\n",
       "         7.18341344e-01,   6.67818723e-01,   6.19752804e-01,\n",
       "         5.71290150e-01,   5.27527276e-01,   4.68764782e-01,\n",
       "         4.00175479e-01,   3.33966583e-01,   2.69817655e-01,\n",
       "         2.06767376e-01,   1.94499123e-01,   1.20752270e-01,\n",
       "         3.63927672e-03,  -7.62951095e-06,  -7.62951095e-06,\n",
       "        -7.62951095e-06,  -7.62951095e-06,  -7.62951095e-06,\n",
       "         1.19859617e-02,   3.98336767e-02,   6.84138247e-02,\n",
       "         8.61753262e-02,   9.96795605e-02,   1.15716793e-01,\n",
       "         1.20340276e-01,   1.25421530e-01,   1.24017700e-01,\n",
       "         1.23361563e-01,   1.27527276e-01,   1.34988937e-01,\n",
       "         1.41031510e-01,   1.36743725e-01,   1.53177691e-01,\n",
       "         1.44220645e-01,   1.36621653e-01,   1.42313268e-01,\n",
       "         1.26169223e-01,   9.93438621e-02,   9.15617609e-02,\n",
       "         6.97718776e-02,   4.87907225e-02,   4.50522621e-02,\n",
       "         5.57030594e-02,   7.40749218e-02,   9.58495460e-02,\n",
       "         1.20782788e-01,   1.48645762e-01,   1.88502327e-01,\n",
       "         2.36995499e-01,   2.90341039e-01,   3.47653925e-01,\n",
       "         3.95719844e-01,   4.46562905e-01,   5.03402762e-01,\n",
       "         5.61860075e-01,   6.21904326e-01,   6.87685969e-01,\n",
       "         7.53543908e-01,   8.11512932e-01,   8.64217594e-01,\n",
       "         9.08377203e-01,   9.50766766e-01,   9.60456245e-01,\n",
       "         9.96269169e-01,   9.99992370e-01,   9.99992370e-01,\n",
       "         9.99992370e-01,   9.95826658e-01,   9.86564431e-01,\n",
       "         9.58899825e-01,   9.34271763e-01,   9.07141222e-01,\n",
       "         8.63912413e-01,   8.19645991e-01,   7.79850462e-01,\n",
       "         7.41992828e-01,   7.13168536e-01,   6.87060349e-01,\n",
       "         6.59716182e-01,   6.32768750e-01,   6.11924926e-01,\n",
       "         5.92225528e-01,   5.76768139e-01,   5.62317845e-01,\n",
       "         5.46051728e-01,   5.24902724e-01,   5.02777142e-01,\n",
       "         4.93575952e-01,   4.85046159e-01,   4.76012818e-01,\n",
       "         4.74258030e-01,   4.76455329e-01,   4.77721828e-01,\n",
       "         4.86175326e-01,   4.92172122e-01,   4.95071336e-01,\n",
       "         5.01892119e-01,   5.00152590e-01,   4.90508888e-01,\n",
       "         4.83916991e-01,   4.84969863e-01,   4.87060349e-01,\n",
       "         4.90890364e-01,   4.91943236e-01,   4.90142672e-01,\n",
       "         4.86266880e-01,   4.82207980e-01])"
      ]
     },
     "execution_count": 187,
     "metadata": {},
     "output_type": "execute_result"
    }
   ],
   "source": [
    "left_back_test[0].T[0]"
   ]
  },
  {
   "cell_type": "code",
   "execution_count": null,
   "metadata": {
    "collapsed": true
   },
   "outputs": [],
   "source": []
  }
 ],
 "metadata": {
  "kernelspec": {
   "display_name": "Python 3",
   "language": "python",
   "name": "python3"
  },
  "language_info": {
   "codemirror_mode": {
    "name": "ipython",
    "version": 3
   },
   "file_extension": ".py",
   "mimetype": "text/x-python",
   "name": "python",
   "nbconvert_exporter": "python",
   "pygments_lexer": "ipython3",
   "version": "3.5.3"
  }
 },
 "nbformat": 4,
 "nbformat_minor": 2
}
